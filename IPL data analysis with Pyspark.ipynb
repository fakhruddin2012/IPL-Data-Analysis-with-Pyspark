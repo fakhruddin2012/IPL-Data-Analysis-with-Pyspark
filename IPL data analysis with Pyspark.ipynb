{
 "cells": [
  {
   "cell_type": "code",
   "execution_count": 1,
   "id": "b59fd07c",
   "metadata": {
    "ExecuteTime": {
     "end_time": "2021-09-24T04:08:57.326863Z",
     "start_time": "2021-09-24T04:08:55.879677Z"
    }
   },
   "outputs": [],
   "source": [
    "from pyspark.sql import SparkSession"
   ]
  },
  {
   "cell_type": "code",
   "execution_count": 2,
   "id": "eb215a88",
   "metadata": {
    "ExecuteTime": {
     "end_time": "2021-09-24T04:09:06.752712Z",
     "start_time": "2021-09-24T04:08:57.330704Z"
    }
   },
   "outputs": [],
   "source": [
    "spark = SparkSession.builder.appName(\"IPL data analysis\").getOrCreate()"
   ]
  },
  {
   "cell_type": "markdown",
   "id": "5159e769",
   "metadata": {
    "heading_collapsed": true
   },
   "source": [
    "# Data Preparation"
   ]
  },
  {
   "cell_type": "code",
   "execution_count": 3,
   "id": "217b28a2",
   "metadata": {
    "ExecuteTime": {
     "end_time": "2021-09-24T04:09:14.315703Z",
     "start_time": "2021-09-24T04:09:06.758677Z"
    },
    "hidden": true
   },
   "outputs": [],
   "source": [
    "df = spark.read.csv('IPL Ball-by-Ball 2008-2020.csv',inferSchema=True,header=True)"
   ]
  },
  {
   "cell_type": "code",
   "execution_count": 4,
   "id": "ca41aecb",
   "metadata": {
    "ExecuteTime": {
     "end_time": "2021-09-24T04:09:14.998679Z",
     "start_time": "2021-09-24T04:09:14.319680Z"
    },
    "hidden": true
   },
   "outputs": [
    {
     "name": "stdout",
     "output_type": "stream",
     "text": [
      "+------+------+----+----+----------+-----------+---------+------------+----------+----------+------------+---------+--------------+----------------+-------+-----------+--------------------+--------------------+\n",
      "|    id|inning|over|ball|   batsman|non_striker|   bowler|batsman_runs|extra_runs|total_runs|non_boundary|is_wicket|dismissal_kind|player_dismissed|fielder|extras_type|        batting_team|        bowling_team|\n",
      "+------+------+----+----+----------+-----------+---------+------------+----------+----------+------------+---------+--------------+----------------+-------+-----------+--------------------+--------------------+\n",
      "|335982|     1|   6|   5|RT Ponting|BB McCullum|AA Noffke|           1|         0|         1|           0|        0|            NA|              NA|     NA|         NA|Kolkata Knight Ri...|Royal Challengers...|\n",
      "+------+------+----+----+----------+-----------+---------+------------+----------+----------+------------+---------+--------------+----------------+-------+-----------+--------------------+--------------------+\n",
      "only showing top 1 row\n",
      "\n"
     ]
    }
   ],
   "source": [
    "df.show(1)"
   ]
  },
  {
   "cell_type": "code",
   "execution_count": 5,
   "id": "39999e31",
   "metadata": {
    "ExecuteTime": {
     "end_time": "2021-09-24T04:09:15.089677Z",
     "start_time": "2021-09-24T04:09:15.002676Z"
    },
    "hidden": true
   },
   "outputs": [
    {
     "data": {
      "text/plain": [
       "18"
      ]
     },
     "execution_count": 5,
     "metadata": {},
     "output_type": "execute_result"
    }
   ],
   "source": [
    "len(df.columns)"
   ]
  },
  {
   "cell_type": "code",
   "execution_count": 6,
   "id": "909e4c15",
   "metadata": {
    "ExecuteTime": {
     "end_time": "2021-09-24T04:09:16.375680Z",
     "start_time": "2021-09-24T04:09:15.092680Z"
    },
    "hidden": true
   },
   "outputs": [
    {
     "name": "stdout",
     "output_type": "stream",
     "text": [
      "193468 , 18\n"
     ]
    }
   ],
   "source": [
    "print(df.count(),\",\",len(df.columns))"
   ]
  },
  {
   "cell_type": "code",
   "execution_count": 7,
   "id": "c27c7bfb",
   "metadata": {
    "ExecuteTime": {
     "end_time": "2021-09-24T04:09:16.728679Z",
     "start_time": "2021-09-24T04:09:16.381684Z"
    },
    "hidden": true
   },
   "outputs": [],
   "source": [
    "df1 = spark.read.csv('IPL Matches 2008-2020.csv',inferSchema=True,header=True)"
   ]
  },
  {
   "cell_type": "code",
   "execution_count": 8,
   "id": "c72d8ee0",
   "metadata": {
    "ExecuteTime": {
     "end_time": "2021-09-24T04:09:17.023676Z",
     "start_time": "2021-09-24T04:09:16.733680Z"
    },
    "hidden": true
   },
   "outputs": [
    {
     "name": "stdout",
     "output_type": "stream",
     "text": [
      "+------+----------+----------+---------------+--------------------+-------------+--------------------+--------------------+--------------------+-------------+--------------------+-------+-------------+----------+------+-----------+--------------+\n",
      "|    id|      city|      date|player_of_match|               venue|neutral_venue|               team1|               team2|         toss_winner|toss_decision|              winner| result|result_margin|eliminator|method|    umpire1|       umpire2|\n",
      "+------+----------+----------+---------------+--------------------+-------------+--------------------+--------------------+--------------------+-------------+--------------------+-------+-------------+----------+------+-----------+--------------+\n",
      "|335982| Bangalore|2008-04-18|    BB McCullum|M Chinnaswamy Sta...|            0|Royal Challengers...|Kolkata Knight Ri...|Royal Challengers...|        field|Kolkata Knight Ri...|   runs|          140|         N|    NA|  Asad Rauf|   RE Koertzen|\n",
      "|335983|Chandigarh|2008-04-19|     MEK Hussey|Punjab Cricket As...|            0|     Kings XI Punjab| Chennai Super Kings| Chennai Super Kings|          bat| Chennai Super Kings|   runs|           33|         N|    NA|  MR Benson|    SL Shastri|\n",
      "|335984|     Delhi|2008-04-19|    MF Maharoof|    Feroz Shah Kotla|            0|    Delhi Daredevils|    Rajasthan Royals|    Rajasthan Royals|          bat|    Delhi Daredevils|wickets|            9|         N|    NA|  Aleem Dar|GA Pratapkumar|\n",
      "|335985|    Mumbai|2008-04-20|     MV Boucher|    Wankhede Stadium|            0|      Mumbai Indians|Royal Challengers...|      Mumbai Indians|          bat|Royal Challengers...|wickets|            5|         N|    NA|   SJ Davis|     DJ Harper|\n",
      "|335986|   Kolkata|2008-04-20|      DJ Hussey|        Eden Gardens|            0|Kolkata Knight Ri...|     Deccan Chargers|     Deccan Chargers|          bat|Kolkata Knight Ri...|wickets|            5|         N|    NA|  BF Bowden|   K Hariharan|\n",
      "|335987|    Jaipur|2008-04-21|      SR Watson|Sawai Mansingh St...|            0|    Rajasthan Royals|     Kings XI Punjab|     Kings XI Punjab|          bat|    Rajasthan Royals|wickets|            6|         N|    NA|  Aleem Dar|     RB Tiffin|\n",
      "|335988| Hyderabad|2008-04-22|       V Sehwag|Rajiv Gandhi Inte...|            0|     Deccan Chargers|    Delhi Daredevils|     Deccan Chargers|          bat|    Delhi Daredevils|wickets|            9|         N|    NA|  IL Howell|     AM Saheba|\n",
      "|335989|   Chennai|2008-04-23|      ML Hayden|MA Chidambaram St...|            0| Chennai Super Kings|      Mumbai Indians|      Mumbai Indians|        field| Chennai Super Kings|   runs|            6|         N|    NA|  DJ Harper|GA Pratapkumar|\n",
      "|335990| Hyderabad|2008-04-24|      YK Pathan|Rajiv Gandhi Inte...|            0|     Deccan Chargers|    Rajasthan Royals|    Rajasthan Royals|        field|    Rajasthan Royals|wickets|            3|         N|    NA|  Asad Rauf|     MR Benson|\n",
      "|335991|Chandigarh|2008-04-25|  KC Sangakkara|Punjab Cricket As...|            0|     Kings XI Punjab|      Mumbai Indians|      Mumbai Indians|        field|     Kings XI Punjab|   runs|           66|         N|    NA|  Aleem Dar|     AM Saheba|\n",
      "|335992| Bangalore|2008-04-26|      SR Watson|M Chinnaswamy Sta...|            0|Royal Challengers...|    Rajasthan Royals|    Rajasthan Royals|        field|    Rajasthan Royals|wickets|            7|         N|    NA|  MR Benson|     IL Howell|\n",
      "|335993|   Chennai|2008-04-26|       JDP Oram|MA Chidambaram St...|            0| Chennai Super Kings|Kolkata Knight Ri...|Kolkata Knight Ri...|          bat| Chennai Super Kings|wickets|            9|         N|    NA|  BF Bowden|AV Jayaprakash|\n",
      "|335994|    Mumbai|2008-04-27|   AC Gilchrist|Dr DY Patil Sport...|            0|      Mumbai Indians|     Deccan Chargers|     Deccan Chargers|        field|     Deccan Chargers|wickets|           10|         N|    NA|  Asad Rauf|    SL Shastri|\n",
      "|335995|Chandigarh|2008-04-27|      SM Katich|Punjab Cricket As...|            0|     Kings XI Punjab|    Delhi Daredevils|    Delhi Daredevils|          bat|     Kings XI Punjab|wickets|            4|         N|    NA|RE Koertzen|     I Shivram|\n",
      "|335996| Bangalore|2008-04-28|       MS Dhoni|M Chinnaswamy Sta...|            0|Royal Challengers...| Chennai Super Kings| Chennai Super Kings|          bat| Chennai Super Kings|   runs|           13|         N|    NA|BR Doctrove|     RB Tiffin|\n",
      "|335997|   Kolkata|2008-04-29|  ST Jayasuriya|        Eden Gardens|            0|Kolkata Knight Ri...|      Mumbai Indians|Kolkata Knight Ri...|          bat|      Mumbai Indians|wickets|            7|         N|    NA|  BF Bowden|AV Jayaprakash|\n",
      "|335998|     Delhi|2008-04-30|     GD McGrath|    Feroz Shah Kotla|            0|    Delhi Daredevils|Royal Challengers...|Royal Challengers...|        field|    Delhi Daredevils|   runs|           10|         N|    NA|  Aleem Dar|     I Shivram|\n",
      "|335999| Hyderabad|2008-05-01|       SE Marsh|Rajiv Gandhi Inte...|            0|     Deccan Chargers|     Kings XI Punjab|     Kings XI Punjab|        field|     Kings XI Punjab|wickets|            7|         N|    NA|BR Doctrove|     RB Tiffin|\n",
      "|336000|    Jaipur|2008-05-01|    SA Asnodkar|Sawai Mansingh St...|            0|    Rajasthan Royals|Kolkata Knight Ri...|    Rajasthan Royals|          bat|    Rajasthan Royals|   runs|           45|         N|    NA|RE Koertzen|GA Pratapkumar|\n",
      "|336001|   Chennai|2008-05-02|       V Sehwag|MA Chidambaram St...|            0| Chennai Super Kings|    Delhi Daredevils| Chennai Super Kings|          bat|    Delhi Daredevils|wickets|            8|         N|    NA|  BF Bowden|   K Hariharan|\n",
      "+------+----------+----------+---------------+--------------------+-------------+--------------------+--------------------+--------------------+-------------+--------------------+-------+-------------+----------+------+-----------+--------------+\n",
      "only showing top 20 rows\n",
      "\n"
     ]
    }
   ],
   "source": [
    "df1.show() "
   ]
  },
  {
   "cell_type": "code",
   "execution_count": 9,
   "id": "1fe288d2",
   "metadata": {
    "ExecuteTime": {
     "end_time": "2021-09-24T04:09:17.222678Z",
     "start_time": "2021-09-24T04:09:17.026680Z"
    },
    "hidden": true
   },
   "outputs": [
    {
     "data": {
      "text/plain": [
       "816"
      ]
     },
     "execution_count": 9,
     "metadata": {},
     "output_type": "execute_result"
    }
   ],
   "source": [
    "df1.count()"
   ]
  },
  {
   "cell_type": "code",
   "execution_count": 10,
   "id": "559a2dc0",
   "metadata": {
    "ExecuteTime": {
     "end_time": "2021-09-24T04:09:17.316683Z",
     "start_time": "2021-09-24T04:09:17.225689Z"
    },
    "hidden": true
   },
   "outputs": [],
   "source": [
    "data=df.join(df1,on='id',how='left')"
   ]
  },
  {
   "cell_type": "code",
   "execution_count": 11,
   "id": "93194ad2",
   "metadata": {
    "ExecuteTime": {
     "end_time": "2021-09-24T04:09:18.123679Z",
     "start_time": "2021-09-24T04:09:17.319679Z"
    },
    "hidden": true,
    "scrolled": true
   },
   "outputs": [
    {
     "name": "stdout",
     "output_type": "stream",
     "text": [
      "+------+------+----+----+-----------+-----------+---------+------------+----------+----------+------------+---------+--------------+----------------+-------+-----------+--------------------+--------------------+---------+----------+---------------+--------------------+-------------+--------------------+--------------------+--------------------+-------------+--------------------+------+-------------+----------+------+---------+-----------+\n",
      "|    id|inning|over|ball|    batsman|non_striker|   bowler|batsman_runs|extra_runs|total_runs|non_boundary|is_wicket|dismissal_kind|player_dismissed|fielder|extras_type|        batting_team|        bowling_team|     city|      date|player_of_match|               venue|neutral_venue|               team1|               team2|         toss_winner|toss_decision|              winner|result|result_margin|eliminator|method|  umpire1|    umpire2|\n",
      "+------+------+----+----+-----------+-----------+---------+------------+----------+----------+------------+---------+--------------+----------------+-------+-----------+--------------------+--------------------+---------+----------+---------------+--------------------+-------------+--------------------+--------------------+--------------------+-------------+--------------------+------+-------------+----------+------+---------+-----------+\n",
      "|335982|     1|   6|   5| RT Ponting|BB McCullum|AA Noffke|           1|         0|         1|           0|        0|            NA|              NA|     NA|         NA|Kolkata Knight Ri...|Royal Challengers...|Bangalore|2008-04-18|    BB McCullum|M Chinnaswamy Sta...|            0|Royal Challengers...|Kolkata Knight Ri...|Royal Challengers...|        field|Kolkata Knight Ri...|  runs|          140|         N|    NA|Asad Rauf|RE Koertzen|\n",
      "|335982|     1|   6|   6|BB McCullum| RT Ponting|AA Noffke|           1|         0|         1|           0|        0|            NA|              NA|     NA|         NA|Kolkata Knight Ri...|Royal Challengers...|Bangalore|2008-04-18|    BB McCullum|M Chinnaswamy Sta...|            0|Royal Challengers...|Kolkata Knight Ri...|Royal Challengers...|        field|Kolkata Knight Ri...|  runs|          140|         N|    NA|Asad Rauf|RE Koertzen|\n",
      "+------+------+----+----+-----------+-----------+---------+------------+----------+----------+------------+---------+--------------+----------------+-------+-----------+--------------------+--------------------+---------+----------+---------------+--------------------+-------------+--------------------+--------------------+--------------------+-------------+--------------------+------+-------------+----------+------+---------+-----------+\n",
      "only showing top 2 rows\n",
      "\n"
     ]
    }
   ],
   "source": [
    "data.show(2)"
   ]
  },
  {
   "cell_type": "code",
   "execution_count": 12,
   "id": "1bd545c9",
   "metadata": {
    "ExecuteTime": {
     "end_time": "2021-09-24T04:09:18.511683Z",
     "start_time": "2021-09-24T04:09:18.130680Z"
    },
    "hidden": true
   },
   "outputs": [
    {
     "data": {
      "text/plain": [
       "Row(id=335982, inning=1, over=6, ball=5, batsman='RT Ponting', non_striker='BB McCullum', bowler='AA Noffke', batsman_runs=1, extra_runs=0, total_runs=1, non_boundary=0, is_wicket=0, dismissal_kind='NA', player_dismissed='NA', fielder='NA', extras_type='NA', batting_team='Kolkata Knight Riders', bowling_team='Royal Challengers Bangalore', city='Bangalore', date='2008-04-18', player_of_match='BB McCullum', venue='M Chinnaswamy Stadium', neutral_venue=0, team1='Royal Challengers Bangalore', team2='Kolkata Knight Riders', toss_winner='Royal Challengers Bangalore', toss_decision='field', winner='Kolkata Knight Riders', result='runs', result_margin='140', eliminator='N', method='NA', umpire1='Asad Rauf', umpire2='RE Koertzen')"
      ]
     },
     "execution_count": 12,
     "metadata": {},
     "output_type": "execute_result"
    }
   ],
   "source": [
    "data.head(2)[0]"
   ]
  },
  {
   "cell_type": "code",
   "execution_count": 13,
   "id": "ac312e51",
   "metadata": {
    "ExecuteTime": {
     "end_time": "2021-09-24T04:09:18.532682Z",
     "start_time": "2021-09-24T04:09:18.516680Z"
    },
    "hidden": true
   },
   "outputs": [],
   "source": [
    "from pyspark.sql import functions as F "
   ]
  },
  {
   "cell_type": "markdown",
   "id": "326b3a09",
   "metadata": {
    "heading_collapsed": true
   },
   "source": [
    "# 1. Most number of runs scored by a batsman"
   ]
  },
  {
   "cell_type": "code",
   "execution_count": 14,
   "id": "fae7513e",
   "metadata": {
    "ExecuteTime": {
     "end_time": "2021-09-24T04:09:18.553682Z",
     "start_time": "2021-09-24T04:09:18.538732Z"
    },
    "hidden": true
   },
   "outputs": [
    {
     "data": {
      "text/plain": [
       "['id',\n",
       " 'inning',\n",
       " 'over',\n",
       " 'ball',\n",
       " 'batsman',\n",
       " 'non_striker',\n",
       " 'bowler',\n",
       " 'batsman_runs',\n",
       " 'extra_runs',\n",
       " 'total_runs',\n",
       " 'non_boundary',\n",
       " 'is_wicket',\n",
       " 'dismissal_kind',\n",
       " 'player_dismissed',\n",
       " 'fielder',\n",
       " 'extras_type',\n",
       " 'batting_team',\n",
       " 'bowling_team',\n",
       " 'city',\n",
       " 'date',\n",
       " 'player_of_match',\n",
       " 'venue',\n",
       " 'neutral_venue',\n",
       " 'team1',\n",
       " 'team2',\n",
       " 'toss_winner',\n",
       " 'toss_decision',\n",
       " 'winner',\n",
       " 'result',\n",
       " 'result_margin',\n",
       " 'eliminator',\n",
       " 'method',\n",
       " 'umpire1',\n",
       " 'umpire2']"
      ]
     },
     "execution_count": 14,
     "metadata": {},
     "output_type": "execute_result"
    }
   ],
   "source": [
    "data.columns"
   ]
  },
  {
   "cell_type": "code",
   "execution_count": 15,
   "id": "1b402b09",
   "metadata": {
    "ExecuteTime": {
     "end_time": "2021-09-24T04:09:18.659677Z",
     "start_time": "2021-09-24T04:09:18.561701Z"
    },
    "hidden": true
   },
   "outputs": [],
   "source": [
    "df2=data.groupBy('batsman').agg(F.sum('batsman_runs').alias('most_runs'))"
   ]
  },
  {
   "cell_type": "code",
   "execution_count": 16,
   "id": "de7efdb4",
   "metadata": {
    "ExecuteTime": {
     "end_time": "2021-09-24T04:09:18.711678Z",
     "start_time": "2021-09-24T04:09:18.666678Z"
    },
    "hidden": true
   },
   "outputs": [],
   "source": [
    "most_runs=df2.sort(F.col(\"most_runs\").desc())"
   ]
  },
  {
   "cell_type": "code",
   "execution_count": 17,
   "id": "8b76fbb6",
   "metadata": {
    "ExecuteTime": {
     "end_time": "2021-09-24T04:09:22.314716Z",
     "start_time": "2021-09-24T04:09:18.715679Z"
    },
    "hidden": true
   },
   "outputs": [
    {
     "name": "stdout",
     "output_type": "stream",
     "text": [
      "+--------------+---------+\n",
      "|       batsman|most_runs|\n",
      "+--------------+---------+\n",
      "|       V Kohli|     5878|\n",
      "|      SK Raina|     5368|\n",
      "|     DA Warner|     5254|\n",
      "|     RG Sharma|     5230|\n",
      "|      S Dhawan|     5197|\n",
      "|AB de Villiers|     4849|\n",
      "|      CH Gayle|     4772|\n",
      "|      MS Dhoni|     4632|\n",
      "|    RV Uthappa|     4607|\n",
      "|     G Gambhir|     4217|\n",
      "+--------------+---------+\n",
      "only showing top 10 rows\n",
      "\n"
     ]
    }
   ],
   "source": [
    "most_runs.show(10) "
   ]
  },
  {
   "cell_type": "markdown",
   "id": "2765fb91",
   "metadata": {
    "heading_collapsed": true
   },
   "source": [
    "# 2. Most number of wickets taken by a bowler"
   ]
  },
  {
   "cell_type": "code",
   "execution_count": 18,
   "id": "207b719b",
   "metadata": {
    "ExecuteTime": {
     "end_time": "2021-09-24T04:09:27.734677Z",
     "start_time": "2021-09-24T04:09:22.319679Z"
    },
    "hidden": true
   },
   "outputs": [
    {
     "name": "stdout",
     "output_type": "stream",
     "text": [
      "+---------------------+\n",
      "|count(dismissal_kind)|\n",
      "+---------------------+\n",
      "|                  294|\n",
      "+---------------------+\n",
      "\n",
      "+---------------------+\n",
      "|count(dismissal_kind)|\n",
      "+---------------------+\n",
      "|                   12|\n",
      "+---------------------+\n",
      "\n",
      "+---------------------+\n",
      "|count(dismissal_kind)|\n",
      "+---------------------+\n",
      "|               183973|\n",
      "+---------------------+\n",
      "\n",
      "+---------------------+\n",
      "|count(dismissal_kind)|\n",
      "+---------------------+\n",
      "|                 1700|\n",
      "+---------------------+\n",
      "\n",
      "+---------------------+\n",
      "|count(dismissal_kind)|\n",
      "+---------------------+\n",
      "|                  571|\n",
      "+---------------------+\n",
      "\n",
      "+---------------------+\n",
      "|count(dismissal_kind)|\n",
      "+---------------------+\n",
      "|                    2|\n",
      "+---------------------+\n",
      "\n",
      "+---------------------+\n",
      "|count(dismissal_kind)|\n",
      "+---------------------+\n",
      "|                  269|\n",
      "+---------------------+\n",
      "\n",
      "+---------------------+\n",
      "|count(dismissal_kind)|\n",
      "+---------------------+\n",
      "|                   11|\n",
      "+---------------------+\n",
      "\n",
      "+---------------------+\n",
      "|count(dismissal_kind)|\n",
      "+---------------------+\n",
      "|                 5743|\n",
      "+---------------------+\n",
      "\n",
      "+---------------------+\n",
      "|count(dismissal_kind)|\n",
      "+---------------------+\n",
      "|                  893|\n",
      "+---------------------+\n",
      "\n"
     ]
    }
   ],
   "source": [
    "for i in [data[0] for data in data.select(F.col('dismissal_kind')).distinct().collect()]:\n",
    "    data.filter(F.col('dismissal_kind')==i).agg(F.count('dismissal_kind')).show() "
   ]
  },
  {
   "cell_type": "code",
   "execution_count": 19,
   "id": "b8f256e9",
   "metadata": {
    "ExecuteTime": {
     "end_time": "2021-09-24T04:09:29.023682Z",
     "start_time": "2021-09-24T04:09:27.740678Z"
    },
    "hidden": true
   },
   "outputs": [
    {
     "name": "stdout",
     "output_type": "stream",
     "text": [
      "+--------------------+------+\n",
      "|      dismissal_kind| count|\n",
      "+--------------------+------+\n",
      "|                  NA|183973|\n",
      "|              caught|  5743|\n",
      "|              bowled|  1700|\n",
      "|             run out|   893|\n",
      "|                 lbw|   571|\n",
      "|             stumped|   294|\n",
      "|   caught and bowled|   269|\n",
      "|          hit wicket|    12|\n",
      "|        retired hurt|    11|\n",
      "|obstructing the f...|     2|\n",
      "+--------------------+------+\n",
      "\n"
     ]
    }
   ],
   "source": [
    "###like value_counts in pandas we can do the same with the help of following code in pyspark\n",
    "data.groupBy(F.col('dismissal_kind')).count().orderBy('count').sort(F.col(\"count\").desc()) .show()"
   ]
  },
  {
   "cell_type": "code",
   "execution_count": 20,
   "id": "1e40dcf7",
   "metadata": {
    "ExecuteTime": {
     "end_time": "2021-09-24T04:09:29.039682Z",
     "start_time": "2021-09-24T04:09:29.034682Z"
    },
    "hidden": true
   },
   "outputs": [],
   "source": [
    "values=['NA','run out','hit wicket','retired hurt','obstructing the field']"
   ]
  },
  {
   "cell_type": "code",
   "execution_count": 21,
   "id": "09dff846",
   "metadata": {
    "ExecuteTime": {
     "end_time": "2021-09-24T04:09:29.068683Z",
     "start_time": "2021-09-24T04:09:29.044677Z"
    },
    "hidden": true
   },
   "outputs": [
    {
     "data": {
      "text/plain": [
       "['id',\n",
       " 'inning',\n",
       " 'over',\n",
       " 'ball',\n",
       " 'batsman',\n",
       " 'non_striker',\n",
       " 'bowler',\n",
       " 'batsman_runs',\n",
       " 'extra_runs',\n",
       " 'total_runs',\n",
       " 'non_boundary',\n",
       " 'is_wicket',\n",
       " 'dismissal_kind',\n",
       " 'player_dismissed',\n",
       " 'fielder',\n",
       " 'extras_type',\n",
       " 'batting_team',\n",
       " 'bowling_team',\n",
       " 'city',\n",
       " 'date',\n",
       " 'player_of_match',\n",
       " 'venue',\n",
       " 'neutral_venue',\n",
       " 'team1',\n",
       " 'team2',\n",
       " 'toss_winner',\n",
       " 'toss_decision',\n",
       " 'winner',\n",
       " 'result',\n",
       " 'result_margin',\n",
       " 'eliminator',\n",
       " 'method',\n",
       " 'umpire1',\n",
       " 'umpire2']"
      ]
     },
     "execution_count": 21,
     "metadata": {},
     "output_type": "execute_result"
    }
   ],
   "source": [
    "data.columns"
   ]
  },
  {
   "cell_type": "code",
   "execution_count": 22,
   "id": "032e4fc4",
   "metadata": {
    "ExecuteTime": {
     "end_time": "2021-09-24T04:09:29.236677Z",
     "start_time": "2021-09-24T04:09:29.073682Z"
    },
    "hidden": true
   },
   "outputs": [],
   "source": [
    "most_wickets = data.filter(~F.col('dismissal_kind').isin(values)).groupBy('bowler') \\\n",
    "    .agg(F.count('is_wicket')).sort(F.col('count(is_wicket)').desc()).withColumnRenamed('count(is_wicket)', 'most_wickets')"
   ]
  },
  {
   "cell_type": "code",
   "execution_count": 23,
   "id": "36cf5e3c",
   "metadata": {
    "ExecuteTime": {
     "end_time": "2021-09-24T04:09:30.889678Z",
     "start_time": "2021-09-24T04:09:29.239678Z"
    },
    "hidden": true
   },
   "outputs": [
    {
     "name": "stdout",
     "output_type": "stream",
     "text": [
      "+---------------+------------+\n",
      "|         bowler|most_wickets|\n",
      "+---------------+------------+\n",
      "|     SL Malinga|         170|\n",
      "|       A Mishra|         160|\n",
      "|      PP Chawla|         156|\n",
      "|       DJ Bravo|         153|\n",
      "|Harbhajan Singh|         149|\n",
      "+---------------+------------+\n",
      "only showing top 5 rows\n",
      "\n"
     ]
    }
   ],
   "source": [
    "most_wickets.show(5) "
   ]
  },
  {
   "cell_type": "markdown",
   "id": "17502168",
   "metadata": {
    "heading_collapsed": true
   },
   "source": [
    "# 3. Most matches win by a team"
   ]
  },
  {
   "cell_type": "code",
   "execution_count": 24,
   "id": "ada50b04",
   "metadata": {
    "ExecuteTime": {
     "end_time": "2021-09-24T04:09:31.132681Z",
     "start_time": "2021-09-24T04:09:30.893679Z"
    },
    "hidden": true
   },
   "outputs": [
    {
     "data": {
      "text/plain": [
       "Row(id=335982, inning=1, over=6, ball=5, batsman='RT Ponting', non_striker='BB McCullum', bowler='AA Noffke', batsman_runs=1, extra_runs=0, total_runs=1, non_boundary=0, is_wicket=0, dismissal_kind='NA', player_dismissed='NA', fielder='NA', extras_type='NA', batting_team='Kolkata Knight Riders', bowling_team='Royal Challengers Bangalore', city='Bangalore', date='2008-04-18', player_of_match='BB McCullum', venue='M Chinnaswamy Stadium', neutral_venue=0, team1='Royal Challengers Bangalore', team2='Kolkata Knight Riders', toss_winner='Royal Challengers Bangalore', toss_decision='field', winner='Kolkata Knight Riders', result='runs', result_margin='140', eliminator='N', method='NA', umpire1='Asad Rauf', umpire2='RE Koertzen')"
      ]
     },
     "execution_count": 24,
     "metadata": {},
     "output_type": "execute_result"
    }
   ],
   "source": [
    "data.head()"
   ]
  },
  {
   "cell_type": "code",
   "execution_count": 25,
   "id": "7d5f48e7",
   "metadata": {
    "ExecuteTime": {
     "end_time": "2021-09-24T04:09:31.210676Z",
     "start_time": "2021-09-24T04:09:31.136678Z"
    },
    "hidden": true
   },
   "outputs": [
    {
     "data": {
      "text/plain": [
       "Row(id=335982, city='Bangalore', date='2008-04-18', player_of_match='BB McCullum', venue='M Chinnaswamy Stadium', neutral_venue=0, team1='Royal Challengers Bangalore', team2='Kolkata Knight Riders', toss_winner='Royal Challengers Bangalore', toss_decision='field', winner='Kolkata Knight Riders', result='runs', result_margin='140', eliminator='N', method='NA', umpire1='Asad Rauf', umpire2='RE Koertzen')"
      ]
     },
     "execution_count": 25,
     "metadata": {},
     "output_type": "execute_result"
    }
   ],
   "source": [
    "df1.head()"
   ]
  },
  {
   "cell_type": "code",
   "execution_count": 26,
   "id": "bed4e112",
   "metadata": {
    "ExecuteTime": {
     "end_time": "2021-09-24T04:09:31.258676Z",
     "start_time": "2021-09-24T04:09:31.213680Z"
    },
    "hidden": true
   },
   "outputs": [],
   "source": [
    "most_matches_won=df1.groupBy('winner').count().sort(F.col('count').desc()).withColumnRenamed('count','most_matches_won')"
   ]
  },
  {
   "cell_type": "code",
   "execution_count": 27,
   "id": "0973952d",
   "metadata": {
    "ExecuteTime": {
     "end_time": "2021-09-24T04:09:32.031680Z",
     "start_time": "2021-09-24T04:09:31.261680Z"
    },
    "hidden": true
   },
   "outputs": [
    {
     "name": "stdout",
     "output_type": "stream",
     "text": [
      "+--------------------+----------------+\n",
      "|              winner|most_matches_won|\n",
      "+--------------------+----------------+\n",
      "|      Mumbai Indians|             120|\n",
      "| Chennai Super Kings|             106|\n",
      "|Kolkata Knight Ri...|              99|\n",
      "|Royal Challengers...|              91|\n",
      "|     Kings XI Punjab|              88|\n",
      "+--------------------+----------------+\n",
      "only showing top 5 rows\n",
      "\n"
     ]
    }
   ],
   "source": [
    "most_matches_won.show(5) "
   ]
  },
  {
   "cell_type": "markdown",
   "id": "6f089979",
   "metadata": {
    "heading_collapsed": true
   },
   "source": [
    "# 4. Most catches by a player"
   ]
  },
  {
   "cell_type": "code",
   "execution_count": 28,
   "id": "f5e2b0c3",
   "metadata": {
    "ExecuteTime": {
     "end_time": "2021-09-24T04:09:32.046681Z",
     "start_time": "2021-09-24T04:09:32.036682Z"
    },
    "hidden": true
   },
   "outputs": [
    {
     "data": {
      "text/plain": [
       "['id',\n",
       " 'inning',\n",
       " 'over',\n",
       " 'ball',\n",
       " 'batsman',\n",
       " 'non_striker',\n",
       " 'bowler',\n",
       " 'batsman_runs',\n",
       " 'extra_runs',\n",
       " 'total_runs',\n",
       " 'non_boundary',\n",
       " 'is_wicket',\n",
       " 'dismissal_kind',\n",
       " 'player_dismissed',\n",
       " 'fielder',\n",
       " 'extras_type',\n",
       " 'batting_team',\n",
       " 'bowling_team',\n",
       " 'city',\n",
       " 'date',\n",
       " 'player_of_match',\n",
       " 'venue',\n",
       " 'neutral_venue',\n",
       " 'team1',\n",
       " 'team2',\n",
       " 'toss_winner',\n",
       " 'toss_decision',\n",
       " 'winner',\n",
       " 'result',\n",
       " 'result_margin',\n",
       " 'eliminator',\n",
       " 'method',\n",
       " 'umpire1',\n",
       " 'umpire2']"
      ]
     },
     "execution_count": 28,
     "metadata": {},
     "output_type": "execute_result"
    }
   ],
   "source": [
    "data.columns"
   ]
  },
  {
   "cell_type": "code",
   "execution_count": 29,
   "id": "9d095ba2",
   "metadata": {
    "ExecuteTime": {
     "end_time": "2021-09-24T04:09:32.244676Z",
     "start_time": "2021-09-24T04:09:32.050714Z"
    },
    "hidden": true
   },
   "outputs": [
    {
     "data": {
      "text/plain": [
       "[Row(id=335982, inning=1, over=6, ball=5, batsman='RT Ponting', non_striker='BB McCullum', bowler='AA Noffke', batsman_runs=1, extra_runs=0, total_runs=1, non_boundary=0, is_wicket=0, dismissal_kind='NA', player_dismissed='NA', fielder='NA', extras_type='NA', batting_team='Kolkata Knight Riders', bowling_team='Royal Challengers Bangalore', city='Bangalore', date='2008-04-18', player_of_match='BB McCullum', venue='M Chinnaswamy Stadium', neutral_venue=0, team1='Royal Challengers Bangalore', team2='Kolkata Knight Riders', toss_winner='Royal Challengers Bangalore', toss_decision='field', winner='Kolkata Knight Riders', result='runs', result_margin='140', eliminator='N', method='NA', umpire1='Asad Rauf', umpire2='RE Koertzen'),\n",
       " Row(id=335982, inning=1, over=6, ball=6, batsman='BB McCullum', non_striker='RT Ponting', bowler='AA Noffke', batsman_runs=1, extra_runs=0, total_runs=1, non_boundary=0, is_wicket=0, dismissal_kind='NA', player_dismissed='NA', fielder='NA', extras_type='NA', batting_team='Kolkata Knight Riders', bowling_team='Royal Challengers Bangalore', city='Bangalore', date='2008-04-18', player_of_match='BB McCullum', venue='M Chinnaswamy Stadium', neutral_venue=0, team1='Royal Challengers Bangalore', team2='Kolkata Knight Riders', toss_winner='Royal Challengers Bangalore', toss_decision='field', winner='Kolkata Knight Riders', result='runs', result_margin='140', eliminator='N', method='NA', umpire1='Asad Rauf', umpire2='RE Koertzen')]"
      ]
     },
     "execution_count": 29,
     "metadata": {},
     "output_type": "execute_result"
    }
   ],
   "source": [
    "data.head(2)"
   ]
  },
  {
   "cell_type": "code",
   "execution_count": 30,
   "id": "8825f374",
   "metadata": {
    "ExecuteTime": {
     "end_time": "2021-09-24T04:09:32.315677Z",
     "start_time": "2021-09-24T04:09:32.247679Z"
    },
    "hidden": true
   },
   "outputs": [],
   "source": [
    "most_catches=data.filter(F.col('dismissal_kind') == 'caught').groupBy('fielder').agg(F.count('fielder')).sort(F.col('count(fielder)')\n",
    "                                                                                                 .desc()).withColumnRenamed('count(fielder)', 'most_catches')"
   ]
  },
  {
   "cell_type": "code",
   "execution_count": 31,
   "id": "3783a291",
   "metadata": {
    "ExecuteTime": {
     "end_time": "2021-09-24T04:09:33.948679Z",
     "start_time": "2021-09-24T04:09:32.322679Z"
    },
    "hidden": true
   },
   "outputs": [
    {
     "name": "stdout",
     "output_type": "stream",
     "text": [
      "+--------------+------------+\n",
      "|       fielder|most_catches|\n",
      "+--------------+------------+\n",
      "|    KD Karthik|         118|\n",
      "|      MS Dhoni|         113|\n",
      "|AB de Villiers|         103|\n",
      "|      SK Raina|          99|\n",
      "|     RG Sharma|          88|\n",
      "+--------------+------------+\n",
      "only showing top 5 rows\n",
      "\n"
     ]
    }
   ],
   "source": [
    "most_catches.show(5)"
   ]
  },
  {
   "cell_type": "markdown",
   "id": "4178a193",
   "metadata": {
    "heading_collapsed": true
   },
   "source": [
    "# 5. Most man of the match"
   ]
  },
  {
   "cell_type": "code",
   "execution_count": 32,
   "id": "ace35450",
   "metadata": {
    "ExecuteTime": {
     "end_time": "2021-09-24T04:09:34.037677Z",
     "start_time": "2021-09-24T04:09:33.952681Z"
    },
    "hidden": true
   },
   "outputs": [
    {
     "data": {
      "text/plain": [
       "[Row(id=335982, city='Bangalore', date='2008-04-18', player_of_match='BB McCullum', venue='M Chinnaswamy Stadium', neutral_venue=0, team1='Royal Challengers Bangalore', team2='Kolkata Knight Riders', toss_winner='Royal Challengers Bangalore', toss_decision='field', winner='Kolkata Knight Riders', result='runs', result_margin='140', eliminator='N', method='NA', umpire1='Asad Rauf', umpire2='RE Koertzen'),\n",
       " Row(id=335983, city='Chandigarh', date='2008-04-19', player_of_match='MEK Hussey', venue='Punjab Cricket Association Stadium, Mohali', neutral_venue=0, team1='Kings XI Punjab', team2='Chennai Super Kings', toss_winner='Chennai Super Kings', toss_decision='bat', winner='Chennai Super Kings', result='runs', result_margin='33', eliminator='N', method='NA', umpire1='MR Benson', umpire2='SL Shastri')]"
      ]
     },
     "execution_count": 32,
     "metadata": {},
     "output_type": "execute_result"
    }
   ],
   "source": [
    "df1.head(2)"
   ]
  },
  {
   "cell_type": "code",
   "execution_count": 33,
   "id": "dd0d95af",
   "metadata": {
    "ExecuteTime": {
     "end_time": "2021-09-24T04:09:34.088676Z",
     "start_time": "2021-09-24T04:09:34.039677Z"
    },
    "hidden": true
   },
   "outputs": [],
   "source": [
    "most_MOM=df1.groupBy('player_of_match').count().sort(F.col('count').desc()).withColumnRenamed('count','most_MOM')"
   ]
  },
  {
   "cell_type": "code",
   "execution_count": 34,
   "id": "f7103633",
   "metadata": {
    "ExecuteTime": {
     "end_time": "2021-09-24T04:09:34.959680Z",
     "start_time": "2021-09-24T04:09:34.093681Z"
    },
    "hidden": true
   },
   "outputs": [
    {
     "name": "stdout",
     "output_type": "stream",
     "text": [
      "+---------------+--------+\n",
      "|player_of_match|most_MOM|\n",
      "+---------------+--------+\n",
      "| AB de Villiers|      23|\n",
      "|       CH Gayle|      22|\n",
      "|      RG Sharma|      18|\n",
      "|      DA Warner|      17|\n",
      "|       MS Dhoni|      17|\n",
      "+---------------+--------+\n",
      "only showing top 5 rows\n",
      "\n"
     ]
    }
   ],
   "source": [
    "most_MOM.show(5)"
   ]
  },
  {
   "cell_type": "markdown",
   "id": "afb6fb3e",
   "metadata": {
    "heading_collapsed": true
   },
   "source": [
    "# 6. Most sixes Hit by a player"
   ]
  },
  {
   "cell_type": "code",
   "execution_count": 35,
   "id": "86eed585",
   "metadata": {
    "ExecuteTime": {
     "end_time": "2021-09-24T04:09:35.023678Z",
     "start_time": "2021-09-24T04:09:34.963678Z"
    },
    "hidden": true
   },
   "outputs": [],
   "source": [
    "data=data.withColumn('six_flag', F.when(F.col('batsman_runs') == F.lit(6), F.lit(1)\n",
    "                                   ).otherwise(F.lit(0))) "
   ]
  },
  {
   "cell_type": "code",
   "execution_count": 36,
   "id": "a4ee0e8e",
   "metadata": {
    "ExecuteTime": {
     "end_time": "2021-09-24T04:09:36.110678Z",
     "start_time": "2021-09-24T04:09:35.034681Z"
    },
    "hidden": true
   },
   "outputs": [
    {
     "name": "stdout",
     "output_type": "stream",
     "text": [
      "+--------+------+\n",
      "|six_flag| count|\n",
      "+--------+------+\n",
      "|       1|  8902|\n",
      "|       0|184566|\n",
      "+--------+------+\n",
      "\n"
     ]
    }
   ],
   "source": [
    "data.groupBy('six_flag').count().show()"
   ]
  },
  {
   "cell_type": "markdown",
   "id": "afb0baa8",
   "metadata": {
    "hidden": true
   },
   "source": [
    "Method:1"
   ]
  },
  {
   "cell_type": "code",
   "execution_count": 37,
   "id": "ef15b1cf",
   "metadata": {
    "ExecuteTime": {
     "end_time": "2021-09-24T04:09:37.837679Z",
     "start_time": "2021-09-24T04:09:36.119680Z"
    },
    "hidden": true
   },
   "outputs": [
    {
     "name": "stdout",
     "output_type": "stream",
     "text": [
      "+--------------+-------------+\n",
      "|       batsman|sum(six_flag)|\n",
      "+--------------+-------------+\n",
      "|      CH Gayle|          349|\n",
      "|AB de Villiers|          235|\n",
      "|      MS Dhoni|          216|\n",
      "|     RG Sharma|          214|\n",
      "|       V Kohli|          202|\n",
      "+--------------+-------------+\n",
      "only showing top 5 rows\n",
      "\n"
     ]
    }
   ],
   "source": [
    "data.groupBy('batsman').sum('six_flag').sort(F.col('sum(six_flag)').desc()).show(5)"
   ]
  },
  {
   "cell_type": "markdown",
   "id": "5305ef96",
   "metadata": {
    "hidden": true
   },
   "source": [
    "Method:2"
   ]
  },
  {
   "cell_type": "code",
   "execution_count": 38,
   "id": "689ac2ff",
   "metadata": {
    "ExecuteTime": {
     "end_time": "2021-09-24T04:09:37.924676Z",
     "start_time": "2021-09-24T04:09:37.846681Z"
    },
    "hidden": true
   },
   "outputs": [],
   "source": [
    "most_sixes=data.groupBy('batsman').agg(F.sum('six_flag')).sort(F.col('sum(six_flag)').desc()).withColumnRenamed('sum(six_flag)','most_sixes')"
   ]
  },
  {
   "cell_type": "code",
   "execution_count": 39,
   "id": "3f378dc7",
   "metadata": {
    "ExecuteTime": {
     "end_time": "2021-09-24T04:09:39.815680Z",
     "start_time": "2021-09-24T04:09:37.927677Z"
    },
    "hidden": true
   },
   "outputs": [
    {
     "name": "stdout",
     "output_type": "stream",
     "text": [
      "+--------------+----------+\n",
      "|       batsman|most_sixes|\n",
      "+--------------+----------+\n",
      "|      CH Gayle|       349|\n",
      "|AB de Villiers|       235|\n",
      "|      MS Dhoni|       216|\n",
      "|     RG Sharma|       214|\n",
      "|       V Kohli|       202|\n",
      "|    KA Pollard|       198|\n",
      "|     DA Warner|       195|\n",
      "|      SK Raina|       194|\n",
      "|     SR Watson|       190|\n",
      "|    RV Uthappa|       163|\n",
      "+--------------+----------+\n",
      "only showing top 10 rows\n",
      "\n"
     ]
    }
   ],
   "source": [
    "most_sixes.show(10)"
   ]
  },
  {
   "cell_type": "markdown",
   "id": "3341d969",
   "metadata": {
    "heading_collapsed": true
   },
   "source": [
    "# 7. Most Fours by a player"
   ]
  },
  {
   "cell_type": "code",
   "execution_count": 40,
   "id": "5def76d4",
   "metadata": {
    "ExecuteTime": {
     "end_time": "2021-09-24T04:09:39.883679Z",
     "start_time": "2021-09-24T04:09:39.818679Z"
    },
    "hidden": true
   },
   "outputs": [],
   "source": [
    "data=data.withColumn('four_flag', F.when(F.col('batsman_runs') == F.lit(4), F.lit(1)\n",
    "                                   ).otherwise(F.lit(0))) "
   ]
  },
  {
   "cell_type": "code",
   "execution_count": 41,
   "id": "bfffee8a",
   "metadata": {
    "ExecuteTime": {
     "end_time": "2021-09-24T04:09:39.965681Z",
     "start_time": "2021-09-24T04:09:39.889682Z"
    },
    "hidden": true
   },
   "outputs": [],
   "source": [
    "most_fours=data.groupBy('batsman').agg(F.sum('four_flag')).sort(F.col('sum(four_flag)').desc())"
   ]
  },
  {
   "cell_type": "code",
   "execution_count": 42,
   "id": "d1171605",
   "metadata": {
    "ExecuteTime": {
     "end_time": "2021-09-24T04:09:41.994681Z",
     "start_time": "2021-09-24T04:09:39.973678Z"
    },
    "hidden": true
   },
   "outputs": [
    {
     "name": "stdout",
     "output_type": "stream",
     "text": [
      "+---------+--------------+\n",
      "|  batsman|sum(four_flag)|\n",
      "+---------+--------------+\n",
      "| S Dhawan|           591|\n",
      "|DA Warner|           510|\n",
      "|  V Kohli|           504|\n",
      "| SK Raina|           493|\n",
      "|G Gambhir|           492|\n",
      "+---------+--------------+\n",
      "only showing top 5 rows\n",
      "\n"
     ]
    }
   ],
   "source": [
    "most_fours.show(5)"
   ]
  },
  {
   "cell_type": "markdown",
   "id": "2c024e00",
   "metadata": {
    "heading_collapsed": true
   },
   "source": [
    "# 8. Highest Strike rate of batsman"
   ]
  },
  {
   "cell_type": "code",
   "execution_count": 43,
   "id": "294e5f08",
   "metadata": {
    "ExecuteTime": {
     "end_time": "2021-09-24T04:09:42.062678Z",
     "start_time": "2021-09-24T04:09:41.998678Z"
    },
    "hidden": true
   },
   "outputs": [],
   "source": [
    "balls = data.groupBy('batsman').agg(F.count(F.col('ball'))).sort(\n",
    "    F.col('count(ball)').desc()).withColumnRenamed('count(ball)', 'balls')"
   ]
  },
  {
   "cell_type": "code",
   "execution_count": 44,
   "id": "d31b8159",
   "metadata": {
    "ExecuteTime": {
     "end_time": "2021-09-24T04:09:44.354681Z",
     "start_time": "2021-09-24T04:09:42.065678Z"
    },
    "hidden": true
   },
   "outputs": [
    {
     "name": "stdout",
     "output_type": "stream",
     "text": [
      "+---------+-----+\n",
      "|  batsman|balls|\n",
      "+---------+-----+\n",
      "|  V Kohli| 4609|\n",
      "| S Dhawan| 4208|\n",
      "|RG Sharma| 4088|\n",
      "| SK Raina| 4041|\n",
      "|DA Warner| 3819|\n",
      "+---------+-----+\n",
      "only showing top 5 rows\n",
      "\n"
     ]
    }
   ],
   "source": [
    "balls.show(5) "
   ]
  },
  {
   "cell_type": "code",
   "execution_count": 45,
   "id": "d3935b15",
   "metadata": {
    "ExecuteTime": {
     "end_time": "2021-09-24T04:09:46.540682Z",
     "start_time": "2021-09-24T04:09:44.360684Z"
    },
    "hidden": true
   },
   "outputs": [
    {
     "name": "stdout",
     "output_type": "stream",
     "text": [
      "+---------+---------+\n",
      "|  batsman|most_runs|\n",
      "+---------+---------+\n",
      "|  V Kohli|     5878|\n",
      "| SK Raina|     5368|\n",
      "|DA Warner|     5254|\n",
      "|RG Sharma|     5230|\n",
      "| S Dhawan|     5197|\n",
      "+---------+---------+\n",
      "only showing top 5 rows\n",
      "\n"
     ]
    }
   ],
   "source": [
    "most_runs.show(5)"
   ]
  },
  {
   "cell_type": "code",
   "execution_count": 46,
   "id": "fb3e5864",
   "metadata": {
    "ExecuteTime": {
     "end_time": "2021-09-24T04:09:46.670680Z",
     "start_time": "2021-09-24T04:09:46.590682Z"
    },
    "hidden": true
   },
   "outputs": [],
   "source": [
    "sr_df=most_runs.join(balls,on='batsman',how='left')"
   ]
  },
  {
   "cell_type": "code",
   "execution_count": 47,
   "id": "5d8f2b5b",
   "metadata": {
    "ExecuteTime": {
     "end_time": "2021-09-24T04:09:49.592680Z",
     "start_time": "2021-09-24T04:09:46.675680Z"
    },
    "hidden": true
   },
   "outputs": [
    {
     "name": "stdout",
     "output_type": "stream",
     "text": [
      "+-------------+---------+-----+\n",
      "|      batsman|most_runs|balls|\n",
      "+-------------+---------+-----+\n",
      "|Kuldeep Yadav|       57|   76|\n",
      "|   S Anirudha|      136|  121|\n",
      "|   TM Dilshan|     1153| 1047|\n",
      "|      J Botha|      409|  364|\n",
      "|   KA Pollard|     3023| 2107|\n",
      "+-------------+---------+-----+\n",
      "only showing top 5 rows\n",
      "\n"
     ]
    }
   ],
   "source": [
    "sr_df.show(5)"
   ]
  },
  {
   "cell_type": "code",
   "execution_count": 48,
   "id": "c5f46263",
   "metadata": {
    "ExecuteTime": {
     "end_time": "2021-09-24T04:09:49.672680Z",
     "start_time": "2021-09-24T04:09:49.595682Z"
    },
    "hidden": true
   },
   "outputs": [],
   "source": [
    "sr_df = sr_df.withColumn('strike_rate', (F.col('most_runs') / F.col('balls'))*100).select(\"*\", F.round(F.col('strike_rate'), 2)) \\\n",
    "    .drop('strike_rate').withColumnRenamed('round(strike_rate, 2)', 'strike_rate')"
   ]
  },
  {
   "cell_type": "code",
   "execution_count": 49,
   "id": "2a6e395b",
   "metadata": {
    "ExecuteTime": {
     "end_time": "2021-09-24T04:09:53.501680Z",
     "start_time": "2021-09-24T04:09:49.677680Z"
    },
    "hidden": true
   },
   "outputs": [
    {
     "name": "stdout",
     "output_type": "stream",
     "text": [
      "+--------------+---------+-----+-----------+\n",
      "|       batsman|most_runs|balls|strike_rate|\n",
      "+--------------+---------+-----+-----------+\n",
      "|    AD Russell|     1517|  882|      172.0|\n",
      "|     K Gowtham|      186|  113|      164.6|\n",
      "|   BCJ Cutting|      238|  146|     163.01|\n",
      "|      N Pooran|      521|  323|      161.3|\n",
      "|     SP Narine|      892|  573|     155.67|\n",
      "|        MM Ali|      309|  199|     155.28|\n",
      "|     CH Morris|      551|  360|     153.06|\n",
      "|     JC Archer|      195|  128|     152.34|\n",
      "| CR Brathwaite|      181|  120|     150.83|\n",
      "|  Bipul Sharma|      187|  124|     150.81|\n",
      "|     HH Pandya|     1349|  897|     150.39|\n",
      "|      V Sehwag|     2728| 1833|     148.83|\n",
      "|    GJ Maxwell|     1505| 1013|     148.57|\n",
      "|AB de Villiers|     4849| 3264|     148.56|\n",
      "|       RR Pant|     2079| 1416|     146.82|\n",
      "+--------------+---------+-----+-----------+\n",
      "only showing top 15 rows\n",
      "\n"
     ]
    }
   ],
   "source": [
    "sr_df.filter(F.col('balls') > 100).sort(F.col('strike_rate').desc()).show(15)  "
   ]
  },
  {
   "cell_type": "markdown",
   "id": "624f330a",
   "metadata": {
    "heading_collapsed": true
   },
   "source": [
    "# 9. Most matches won by a team"
   ]
  },
  {
   "cell_type": "code",
   "execution_count": 50,
   "id": "172ec7b1",
   "metadata": {
    "ExecuteTime": {
     "end_time": "2021-09-24T04:09:53.591682Z",
     "start_time": "2021-09-24T04:09:53.508685Z"
    },
    "hidden": true
   },
   "outputs": [],
   "source": [
    "most_wins=df1.groupBy('winner').agg(F.count(F.col('winner'))).sort(F.col('count(winner)').desc()) \\\n",
    "    .withColumnRenamed('count(winner)', 'most_wins')"
   ]
  },
  {
   "cell_type": "code",
   "execution_count": 51,
   "id": "4e1c94e0",
   "metadata": {
    "ExecuteTime": {
     "end_time": "2021-09-24T04:09:54.349680Z",
     "start_time": "2021-09-24T04:09:53.599718Z"
    },
    "hidden": true
   },
   "outputs": [
    {
     "name": "stdout",
     "output_type": "stream",
     "text": [
      "+--------------------+---------+\n",
      "|              winner|most_wins|\n",
      "+--------------------+---------+\n",
      "|      Mumbai Indians|      120|\n",
      "| Chennai Super Kings|      106|\n",
      "|Kolkata Knight Ri...|       99|\n",
      "|Royal Challengers...|       91|\n",
      "|     Kings XI Punjab|       88|\n",
      "+--------------------+---------+\n",
      "only showing top 5 rows\n",
      "\n"
     ]
    }
   ],
   "source": [
    "most_wins.show(5) "
   ]
  },
  {
   "cell_type": "markdown",
   "id": "51117b7e",
   "metadata": {
    "heading_collapsed": true
   },
   "source": [
    "# 10. Most no balls balled by a baller"
   ]
  },
  {
   "cell_type": "code",
   "execution_count": 52,
   "id": "7b400fba",
   "metadata": {
    "ExecuteTime": {
     "end_time": "2021-09-24T04:10:02.479842Z",
     "start_time": "2021-09-24T04:10:02.406818Z"
    },
    "hidden": true
   },
   "outputs": [
    {
     "data": {
      "text/plain": [
       "[Row(id=335982, inning=1, over=6, ball=5, batsman='RT Ponting', non_striker='BB McCullum', bowler='AA Noffke', batsman_runs=1, extra_runs=0, total_runs=1, non_boundary=0, is_wicket=0, dismissal_kind='NA', player_dismissed='NA', fielder='NA', extras_type='NA', batting_team='Kolkata Knight Riders', bowling_team='Royal Challengers Bangalore')]"
      ]
     },
     "execution_count": 52,
     "metadata": {},
     "output_type": "execute_result"
    }
   ],
   "source": [
    "df.head(1)"
   ]
  },
  {
   "cell_type": "code",
   "execution_count": 62,
   "id": "ca97142e",
   "metadata": {
    "ExecuteTime": {
     "end_time": "2021-09-24T04:14:29.391135Z",
     "start_time": "2021-09-24T04:14:29.350135Z"
    },
    "hidden": true
   },
   "outputs": [],
   "source": [
    "most_noballs=df.filter(F.col('extras_type') == \"noballs\").groupBy('bowler').agg(F.count(F.col('extras_type'))). \\\n",
    "sort(F.col('count(extras_type)').desc()).withColumnRenamed('count(extras_type)','most_noballs')"
   ]
  },
  {
   "cell_type": "code",
   "execution_count": 63,
   "id": "ed2ab185",
   "metadata": {
    "ExecuteTime": {
     "end_time": "2021-09-24T04:14:38.847269Z",
     "start_time": "2021-09-24T04:14:38.194260Z"
    },
    "hidden": true
   },
   "outputs": [
    {
     "name": "stdout",
     "output_type": "stream",
     "text": [
      "+-----------+------------+\n",
      "|     bowler|most_noballs|\n",
      "+-----------+------------+\n",
      "|S Sreesanth|          23|\n",
      "|  JJ Bumrah|          22|\n",
      "|   A Mishra|          21|\n",
      "|   I Sharma|          21|\n",
      "| SL Malinga|          18|\n",
      "+-----------+------------+\n",
      "only showing top 5 rows\n",
      "\n"
     ]
    }
   ],
   "source": [
    "most_noballs.show(5)"
   ]
  },
  {
   "cell_type": "markdown",
   "id": "10311629",
   "metadata": {
    "heading_collapsed": true
   },
   "source": [
    "# 11. Most stumpings by a wicketkeeper"
   ]
  },
  {
   "cell_type": "code",
   "execution_count": 66,
   "id": "59c9449d",
   "metadata": {
    "ExecuteTime": {
     "end_time": "2021-09-24T04:27:15.749541Z",
     "start_time": "2021-09-24T04:27:15.688350Z"
    },
    "hidden": true
   },
   "outputs": [],
   "source": [
    "most_stumping=data.filter(F.col('dismissal_kind') == 'stumped').groupBy('fielder').agg(F.count(F.col('dismissal_kind'))) \\\n",
    ".sort(F.col('count(dismissal_kind)').desc()).withColumnRenamed('count(dismissal_kind)','most_stumping')"
   ]
  },
  {
   "cell_type": "code",
   "execution_count": 67,
   "id": "c3d02826",
   "metadata": {
    "ExecuteTime": {
     "end_time": "2021-09-24T04:27:26.254624Z",
     "start_time": "2021-09-24T04:27:25.675622Z"
    },
    "hidden": true
   },
   "outputs": [
    {
     "name": "stdout",
     "output_type": "stream",
     "text": [
      "+------------+-------------+\n",
      "|     fielder|most_stumping|\n",
      "+------------+-------------+\n",
      "|    MS Dhoni|           39|\n",
      "|  RV Uthappa|           32|\n",
      "|  KD Karthik|           30|\n",
      "|     WP Saha|           20|\n",
      "|AC Gilchrist|           16|\n",
      "+------------+-------------+\n",
      "only showing top 5 rows\n",
      "\n"
     ]
    }
   ],
   "source": [
    "most_stumping.show(5)"
   ]
  },
  {
   "cell_type": "markdown",
   "id": "fe682ffb",
   "metadata": {
    "heading_collapsed": true
   },
   "source": [
    "# 12. Batsman who got runout most number of times"
   ]
  },
  {
   "cell_type": "code",
   "execution_count": 68,
   "id": "04dd4f1d",
   "metadata": {
    "ExecuteTime": {
     "end_time": "2021-09-24T04:29:52.786927Z",
     "start_time": "2021-09-24T04:29:52.733923Z"
    },
    "hidden": true
   },
   "outputs": [],
   "source": [
    "most_runouts=data.filter(F.col('dismissal_kind') == 'run out').groupBy('batsman').agg(F.count(F.col('dismissal_kind'))) \\\n",
    ".sort(F.col('count(dismissal_kind)').desc()).withColumnRenamed('count(dismissal_kind)','most_runouts')"
   ]
  },
  {
   "cell_type": "code",
   "execution_count": 69,
   "id": "75d977f0",
   "metadata": {
    "ExecuteTime": {
     "end_time": "2021-09-24T04:30:02.855924Z",
     "start_time": "2021-09-24T04:30:02.028925Z"
    },
    "hidden": true
   },
   "outputs": [
    {
     "name": "stdout",
     "output_type": "stream",
     "text": [
      "+----------+------------+\n",
      "|   batsman|most_runouts|\n",
      "+----------+------------+\n",
      "|  MS Dhoni|          22|\n",
      "| RG Sharma|          20|\n",
      "|KD Karthik|          17|\n",
      "|   V Kohli|          15|\n",
      "|  S Dhawan|          15|\n",
      "+----------+------------+\n",
      "only showing top 5 rows\n",
      "\n"
     ]
    }
   ],
   "source": [
    "most_runouts.show(5)"
   ]
  },
  {
   "cell_type": "markdown",
   "id": "d67b4f43",
   "metadata": {
    "heading_collapsed": true
   },
   "source": [
    "# 13. Batsman who got bowled most number of times"
   ]
  },
  {
   "cell_type": "code",
   "execution_count": 70,
   "id": "9c17e707",
   "metadata": {
    "ExecuteTime": {
     "end_time": "2021-09-24T04:31:32.526912Z",
     "start_time": "2021-09-24T04:31:32.468916Z"
    },
    "hidden": true
   },
   "outputs": [],
   "source": [
    "most_bowled=data.filter(F.col('dismissal_kind') == 'bowled').groupBy('batsman').agg(F.count(F.col('dismissal_kind'))) \\\n",
    ".sort(F.col('count(dismissal_kind)').desc()).withColumnRenamed('count(dismissal_kind)','most_times_bowled')"
   ]
  },
  {
   "cell_type": "code",
   "execution_count": 71,
   "id": "20cdd9a5",
   "metadata": {
    "ExecuteTime": {
     "end_time": "2021-09-24T04:31:42.316197Z",
     "start_time": "2021-09-24T04:31:41.489195Z"
    },
    "hidden": true
   },
   "outputs": [
    {
     "name": "stdout",
     "output_type": "stream",
     "text": [
      "+---------+-----------------+\n",
      "|  batsman|most_times_bowled|\n",
      "+---------+-----------------+\n",
      "|SR Watson|               35|\n",
      "| S Dhawan|               31|\n",
      "|  V Kohli|               30|\n",
      "|G Gambhir|               27|\n",
      "|DA Warner|               25|\n",
      "+---------+-----------------+\n",
      "only showing top 5 rows\n",
      "\n"
     ]
    }
   ],
   "source": [
    "most_bowled.show(5)"
   ]
  },
  {
   "cell_type": "code",
   "execution_count": null,
   "id": "59b3d850",
   "metadata": {
    "hidden": true
   },
   "outputs": [],
   "source": []
  }
 ],
 "metadata": {
  "kernelspec": {
   "display_name": "Python 3",
   "language": "python",
   "name": "python3"
  },
  "language_info": {
   "codemirror_mode": {
    "name": "ipython",
    "version": 3
   },
   "file_extension": ".py",
   "mimetype": "text/x-python",
   "name": "python",
   "nbconvert_exporter": "python",
   "pygments_lexer": "ipython3",
   "version": "3.8.8"
  }
 },
 "nbformat": 4,
 "nbformat_minor": 5
}
